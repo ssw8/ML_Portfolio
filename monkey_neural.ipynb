{
  "nbformat": 4,
  "nbformat_minor": 0,
  "metadata": {
    "kernelspec": {
      "display_name": "Python 3",
      "language": "python",
      "name": "python3"
    },
    "language_info": {
      "codemirror_mode": {
        "name": "ipython",
        "version": 3
      },
      "file_extension": ".py",
      "mimetype": "text/x-python",
      "name": "python",
      "nbconvert_exporter": "python",
      "pygments_lexer": "ipython3",
      "version": "3.7.4"
    },
    "colab": {
      "name": "monkey_neural.ipynb",
      "provenance": [],
      "collapsed_sections": []
    },
    "widgets": {
      "application/vnd.jupyter.widget-state+json": {
        "64f4540e5b3f4f839bc944c3c0d527b6": {
          "model_module": "@jupyter-widgets/controls",
          "model_name": "HBoxModel",
          "state": {
            "_view_name": "HBoxView",
            "_dom_classes": [],
            "_model_name": "HBoxModel",
            "_view_module": "@jupyter-widgets/controls",
            "_model_module_version": "1.5.0",
            "_view_count": null,
            "_view_module_version": "1.5.0",
            "box_style": "",
            "layout": "IPY_MODEL_d01013789a284181b1f63b1294a338be",
            "_model_module": "@jupyter-widgets/controls",
            "children": [
              "IPY_MODEL_f73748ea486342819aaca82eeb5a290d",
              "IPY_MODEL_132875bef12a45c5b39650e8cd11a3cf"
            ]
          }
        },
        "d01013789a284181b1f63b1294a338be": {
          "model_module": "@jupyter-widgets/base",
          "model_name": "LayoutModel",
          "state": {
            "_view_name": "LayoutView",
            "grid_template_rows": null,
            "right": null,
            "justify_content": null,
            "_view_module": "@jupyter-widgets/base",
            "overflow": null,
            "_model_module_version": "1.2.0",
            "_view_count": null,
            "flex_flow": null,
            "width": null,
            "min_width": null,
            "border": null,
            "align_items": null,
            "bottom": null,
            "_model_module": "@jupyter-widgets/base",
            "top": null,
            "grid_column": null,
            "overflow_y": null,
            "overflow_x": null,
            "grid_auto_flow": null,
            "grid_area": null,
            "grid_template_columns": null,
            "flex": null,
            "_model_name": "LayoutModel",
            "justify_items": null,
            "grid_row": null,
            "max_height": null,
            "align_content": null,
            "visibility": null,
            "align_self": null,
            "height": null,
            "min_height": null,
            "padding": null,
            "grid_auto_rows": null,
            "grid_gap": null,
            "max_width": null,
            "order": null,
            "_view_module_version": "1.2.0",
            "grid_template_areas": null,
            "object_position": null,
            "object_fit": null,
            "grid_auto_columns": null,
            "margin": null,
            "display": null,
            "left": null
          }
        },
        "f73748ea486342819aaca82eeb5a290d": {
          "model_module": "@jupyter-widgets/controls",
          "model_name": "FloatProgressModel",
          "state": {
            "_view_name": "ProgressView",
            "style": "IPY_MODEL_e70a7382f5474c5b9420ab343c33b3d7",
            "_dom_classes": [],
            "description": "Model order test: 100%",
            "_model_name": "FloatProgressModel",
            "bar_style": "success",
            "max": 80,
            "_view_module": "@jupyter-widgets/controls",
            "_model_module_version": "1.5.0",
            "value": 80,
            "_view_count": null,
            "_view_module_version": "1.5.0",
            "orientation": "horizontal",
            "min": 0,
            "description_tooltip": null,
            "_model_module": "@jupyter-widgets/controls",
            "layout": "IPY_MODEL_54cc967ffa06418592f033a46cb1c101"
          }
        },
        "132875bef12a45c5b39650e8cd11a3cf": {
          "model_module": "@jupyter-widgets/controls",
          "model_name": "HTMLModel",
          "state": {
            "_view_name": "HTMLView",
            "style": "IPY_MODEL_493b9af3329a48688512a41549885009",
            "_dom_classes": [],
            "description": "",
            "_model_name": "HTMLModel",
            "placeholder": "​",
            "_view_module": "@jupyter-widgets/controls",
            "_model_module_version": "1.5.0",
            "value": " 80/80 [00:49&lt;00:00,  1.62fits/s]",
            "_view_count": null,
            "_view_module_version": "1.5.0",
            "description_tooltip": null,
            "_model_module": "@jupyter-widgets/controls",
            "layout": "IPY_MODEL_b5f4ba7d7862413493e8e641a4f138cc"
          }
        },
        "e70a7382f5474c5b9420ab343c33b3d7": {
          "model_module": "@jupyter-widgets/controls",
          "model_name": "ProgressStyleModel",
          "state": {
            "_view_name": "StyleView",
            "_model_name": "ProgressStyleModel",
            "description_width": "initial",
            "_view_module": "@jupyter-widgets/base",
            "_model_module_version": "1.5.0",
            "_view_count": null,
            "_view_module_version": "1.2.0",
            "bar_color": null,
            "_model_module": "@jupyter-widgets/controls"
          }
        },
        "54cc967ffa06418592f033a46cb1c101": {
          "model_module": "@jupyter-widgets/base",
          "model_name": "LayoutModel",
          "state": {
            "_view_name": "LayoutView",
            "grid_template_rows": null,
            "right": null,
            "justify_content": null,
            "_view_module": "@jupyter-widgets/base",
            "overflow": null,
            "_model_module_version": "1.2.0",
            "_view_count": null,
            "flex_flow": null,
            "width": null,
            "min_width": null,
            "border": null,
            "align_items": null,
            "bottom": null,
            "_model_module": "@jupyter-widgets/base",
            "top": null,
            "grid_column": null,
            "overflow_y": null,
            "overflow_x": null,
            "grid_auto_flow": null,
            "grid_area": null,
            "grid_template_columns": null,
            "flex": null,
            "_model_name": "LayoutModel",
            "justify_items": null,
            "grid_row": null,
            "max_height": null,
            "align_content": null,
            "visibility": null,
            "align_self": null,
            "height": null,
            "min_height": null,
            "padding": null,
            "grid_auto_rows": null,
            "grid_gap": null,
            "max_width": null,
            "order": null,
            "_view_module_version": "1.2.0",
            "grid_template_areas": null,
            "object_position": null,
            "object_fit": null,
            "grid_auto_columns": null,
            "margin": null,
            "display": null,
            "left": null
          }
        },
        "493b9af3329a48688512a41549885009": {
          "model_module": "@jupyter-widgets/controls",
          "model_name": "DescriptionStyleModel",
          "state": {
            "_view_name": "StyleView",
            "_model_name": "DescriptionStyleModel",
            "description_width": "",
            "_view_module": "@jupyter-widgets/base",
            "_model_module_version": "1.5.0",
            "_view_count": null,
            "_view_module_version": "1.2.0",
            "_model_module": "@jupyter-widgets/controls"
          }
        },
        "b5f4ba7d7862413493e8e641a4f138cc": {
          "model_module": "@jupyter-widgets/base",
          "model_name": "LayoutModel",
          "state": {
            "_view_name": "LayoutView",
            "grid_template_rows": null,
            "right": null,
            "justify_content": null,
            "_view_module": "@jupyter-widgets/base",
            "overflow": null,
            "_model_module_version": "1.2.0",
            "_view_count": null,
            "flex_flow": null,
            "width": null,
            "min_width": null,
            "border": null,
            "align_items": null,
            "bottom": null,
            "_model_module": "@jupyter-widgets/base",
            "top": null,
            "grid_column": null,
            "overflow_y": null,
            "overflow_x": null,
            "grid_auto_flow": null,
            "grid_area": null,
            "grid_template_columns": null,
            "flex": null,
            "_model_name": "LayoutModel",
            "justify_items": null,
            "grid_row": null,
            "max_height": null,
            "align_content": null,
            "visibility": null,
            "align_self": null,
            "height": null,
            "min_height": null,
            "padding": null,
            "grid_auto_rows": null,
            "grid_gap": null,
            "max_width": null,
            "order": null,
            "_view_module_version": "1.2.0",
            "grid_template_areas": null,
            "object_position": null,
            "object_fit": null,
            "grid_auto_columns": null,
            "margin": null,
            "display": null,
            "left": null
          }
        }
      }
    }
  },
  "cells": [
    {
      "cell_type": "code",
      "metadata": {
        "id": "e7Q-4YZevjjb",
        "colab": {
          "base_uri": "https://localhost:8080/"
        },
        "outputId": "70846aa0-4ae6-4930-9ac2-dd7efd9e36c0"
      },
      "source": [
        "\"\"\"\n",
        "Simon Wang\n",
        "\n",
        "This project attempts to decode neuronal activity signals recorded from 196\n",
        "neurons in the primary mortor cortex from a monkey's brain and maps these\n",
        "signals into the monkey's hand movement.\n",
        "\n",
        "This project also attempts to find, through K-fold validation, the optimal delay\n",
        "time between neuronal activities and monkey's hand movement.\n",
        "\n",
        "The data in this project comes from neural recordings described in:\n",
        "Stevenson, Ian H., et al. \"Statistical assessment of the stability of neural\n",
        "movement representations.\" Journal of neurophysiology 106.2 (2011): 764-774\n",
        "https://journals.physiology.org/doi/full/10.1152/jn.00626.2010\n",
        "\"\"\"\n",
        "\n",
        "import numpy as np\n",
        "import matplotlib.pyplot as plt\n",
        "import pickle\n",
        "from sklearn.linear_model import LinearRegression\n",
        "from sklearn.metrics import r2_score\n",
        "import os\n",
        "from six.moves import urllib\n",
        "from sklearn.model_selection import train_test_split\n",
        "from sklearn import linear_model\n",
        "import sklearn.model_selection \n",
        "import tqdm.notebook\n",
        "\n",
        "# load data\n",
        "fn_src = 'https://www.dropbox.com/sh/n4924ipcfjqc0t6/AADOv9JYMUBK1tlg9P71gSSra/example_data_s1.pickle?dl=1'\n",
        "fn_dst = 'example_data_s1.pickle'\n",
        "if os.path.isfile(fn_dst):\n",
        "  print('File %s is already downloaded' % fn_dst)\n",
        "else:\n",
        "  urllib.request.urlretrieve(fn_src, fn_dst)\n",
        "with open('example_data_s1.pickle', 'rb') as fp:\n",
        "    X,y = pickle.load(fp)\n",
        "\n",
        "tsamp = 0.05  # sampling time in seconds\n",
        "nt = X.shape[0]\n",
        "nneuron = X.shape[1]\n",
        "nout = y.shape[1]\n",
        "ttotal = nt*tsamp\n",
        "\n",
        "# prepare training and testing data\n",
        "Xtr, Xts, ytr, yts = train_test_split(X, y, test_size=0.33)"
      ],
      "execution_count": 9,
      "outputs": [
        {
          "output_type": "stream",
          "text": [
            "File example_data_s1.pickle is already downloaded\n"
          ],
          "name": "stdout"
        }
      ]
    },
    {
      "cell_type": "code",
      "metadata": {
        "colab": {
          "base_uri": "https://localhost:8080/"
        },
        "id": "INKQmuC-M6c-",
        "outputId": "29e52d94-3136-4601-87e4-2026728635eb"
      },
      "source": [
        "# build and test memoryless linear model\n",
        "linmod= linear_model.LinearRegression()\n",
        "linmod.fit(Xtr, ytr)\n",
        "yhat = linmod.predict(Xts)\n",
        "rsq = r2_score(yts, yhat)\n",
        "print('The RSQ value for linear model fit is ', rsq)"
      ],
      "execution_count": 10,
      "outputs": [
        {
          "output_type": "stream",
          "text": [
            "The RSQ value for linear model fit is  0.4648722700861733\n"
          ],
          "name": "stdout"
        }
      ]
    },
    {
      "cell_type": "code",
      "metadata": {
        "id": "FFyVbF0Ivjj0",
        "colab": {
          "base_uri": "https://localhost:8080/",
          "height": 334
        },
        "outputId": "bcf94d74-d0d8-48b4-e989-e88f4af9c573"
      },
      "source": [
        "# visualize memeoryless model's result\n",
        "plt.figure(figsize=(10,5))\n",
        "ax1 = plt.subplot(121)\n",
        "ax2 = plt.subplot(122)\n",
        "ax1.scatter(yts[:, 0], yhat[:, 0])\n",
        "ax1.set_xlabel('Actual monkey hand velocity in x-direction')\n",
        "ax1.set_ylabel('Predicted monkey hand velocity in x-direction')\n",
        "ax2.scatter(yts[:, 1], yhat[:, 1])\n",
        "ax2.set_xlabel('Actual monkey hand velocity in y-direction')\n",
        "ax2.set_ylabel('Predicted monkey hand velocity in y-direction')\n",
        "plt.subplots_adjust(wspace=0.5)"
      ],
      "execution_count": 11,
      "outputs": [
        {
          "output_type": "display_data",
          "data": {
            "image/png": "[encoded data removed]",
            "text/plain": [
              "<Figure size 720x360 with 2 Axes>"
            ]
          },
          "metadata": {
            "tags": [],
            "needs_background": "light"
          }
        }
      ]
    },
    {
      "cell_type": "code",
      "metadata": {
        "id": "Qo4MMj3uvjj8"
      },
      "source": [
        "# implement a function that generate a delay time between neuronal activities\n",
        "# and monkey's hand movement\n",
        "def create_dly_data(X,y,dly):\n",
        "    \"\"\"\n",
        "    input: neuronal data X, y\n",
        "\n",
        "    return: delayed neuronal data\n",
        "            Xdly, ydly\n",
        "    \"\"\"\n",
        "    # TODO\n",
        "    n, p = X.shape\n",
        "    Xdly = np.zeros([n-dly, 1])\n",
        "    for i in range(0, p):\n",
        "      curcol = X[:, i]\n",
        "      for j in range(0, dly+1):\n",
        "        curdlycol = curcol[j:j+n-dly, None]\n",
        "        Xdly = np.hstack((Xdly, curdlycol))\n",
        "    Xdly = Xdly[:, 1:(dly+1)*p+1]\n",
        "    ydly = y[dly:n, :]\n",
        "    return Xdly, ydly"
      ],
      "execution_count": 12,
      "outputs": []
    },
    {
      "cell_type": "code",
      "metadata": {
        "id": "xgg4pkVTvjkA",
        "colab": {
          "base_uri": "https://localhost:8080/"
        },
        "outputId": "91e6e999-149f-4627-9737-0b738306a3a4"
      },
      "source": [
        "# build and test linear model with consideration of delay\n",
        "Xdly, ydly = create_dly_data(X, y, dly=6) # i.e. 6*tsamp = 6*0.05 = 0.3 second\n",
        "Xtr_d6, Xts_d6, ytr_d6, yts_d6 = train_test_split(Xdly, ydly, test_size=0.33)\n",
        "d6mod= linear_model.LinearRegression()\n",
        "d6mod.fit(Xtr_d6, ytr_d6)\n",
        "yhat_d6 = d6mod.predict(Xts_d6)\n",
        "rsq_d6 = r2_score(yts_d6, yhat_d6)\n",
        "print('The RSQ value for 6-unit delay model fit is ', rsq_d6)"
      ],
      "execution_count": 13,
      "outputs": [
        {
          "output_type": "stream",
          "text": [
            "The RSQ value for 6-unit delay model fit is  0.6902785139197455\n"
          ],
          "name": "stdout"
        }
      ]
    },
    {
      "cell_type": "code",
      "metadata": {
        "id": "B92r0gA1vjkF",
        "colab": {
          "base_uri": "https://localhost:8080/",
          "height": 334
        },
        "outputId": "a8ea7d59-0c16-4d44-8f6f-17ed39619799"
      },
      "source": [
        "# visualize results of linear model with delay\n",
        "plt.figure(figsize=(10,5))\n",
        "ax3 = plt.subplot(121)\n",
        "ax4 = plt.subplot(122)\n",
        "ax3.scatter(yts_d6[:, 0], yhat_d6[:, 0])\n",
        "ax3.set_xlabel('Actual monkey hand velocity in x-direction')\n",
        "ax3.set_ylabel('Predicted monkey hand velocity in x-direction')\n",
        "ax4.scatter(yts_d6[:, 1], yhat_d6[:, 1])\n",
        "ax4.set_xlabel('Actual monkey hand velocity in y-direction')\n",
        "ax4.set_ylabel('Predicted monkey hand velocity in y-direction')\n",
        "plt.subplots_adjust(wspace=0.5)"
      ],
      "execution_count": 14,
      "outputs": [
        {
          "output_type": "display_data",
          "data": {
            "image/png": "[encoded data removed]",
            "text/plain": [
              "<Figure size 720x360 with 2 Axes>"
            ]
          },
          "metadata": {
            "tags": [],
            "needs_background": "light"
          }
        }
      ]
    },
    {
      "cell_type": "code",
      "metadata": {
        "id": "HhgD1bPOvjkO",
        "colab": {
          "base_uri": "https://localhost:8080/",
          "height": 66,
          "referenced_widgets": [
            "64f4540e5b3f4f839bc944c3c0d527b6",
            "d01013789a284181b1f63b1294a338be",
            "f73748ea486342819aaca82eeb5a290d",
            "132875bef12a45c5b39650e8cd11a3cf",
            "e70a7382f5474c5b9420ab343c33b3d7",
            "54cc967ffa06418592f033a46cb1c101",
            "493b9af3329a48688512a41549885009",
            "b5f4ba7d7862413493e8e641a4f138cc"
          ]
        },
        "outputId": "6509b195-1034-4101-f02a-bb8e1765a1fa"
      },
      "source": [
        "# select a smaller portion of data for faster computation\n",
        "nred = 6000\n",
        "Xred = X[0:nred, :]\n",
        "yred = y[0:nred, :]\n",
        "nfold = 5  # Number of folds\n",
        "dmax = 15  # maximum number of delays\n",
        "\n",
        "kf = sklearn.model_selection.KFold(n_splits=nfold, shuffle=True)\n",
        "dtest = np.arange(0, dmax+1)  \n",
        "nd = len(dtest)\n",
        "RSS = np.zeros([nd, nfold])\n",
        "\n",
        "# create a progress bar\n",
        "pbar = tqdm.notebook.tqdm(\n",
        "    total=nfold*nd, initial=0,\n",
        "    unit='fits', unit_divisor=nd, desc='Model order test')\n",
        "\n",
        "for it, d in enumerate(dtest):\n",
        "    Xdly, ydly = create_dly_data(Xred, yred, d)    \n",
        "    rsq_sum = 0\n",
        "    for isplit, Ind in enumerate(kf.split(Xdly)):\n",
        "        Itr, Its = Ind        \n",
        "        Xtr = Xdly[Itr]\n",
        "        ytr = ydly[Itr]\n",
        "        Xts = Xdly[Its]\n",
        "        yts = ydly[Its] \n",
        "        regr = linear_model.LinearRegression()\n",
        "        regr.fit(Xtr, ytr)\n",
        "        yhat = regr.predict(Xts)\n",
        "        rsq = r2_score(yts, yhat)\n",
        "        RSS[d, isplit] = rsq\n",
        "        pbar.update(1)\n",
        "pbar.close()       "
      ],
      "execution_count": 15,
      "outputs": [
        {
          "output_type": "display_data",
          "data": {
            "application/vnd.jupyter.widget-view+json": {
              "model_id": "64f4540e5b3f4f839bc944c3c0d527b6",
              "version_minor": 0,
              "version_major": 2
            },
            "text/plain": [
              "HBox(children=(FloatProgress(value=0.0, description='Model order test', max=80.0, style=ProgressStyle(descript…"
            ]
          },
          "metadata": {
            "tags": []
          }
        },
        {
          "output_type": "stream",
          "text": [
            "\n"
          ],
          "name": "stdout"
        }
      ]
    },
    {
      "cell_type": "code",
      "metadata": {
        "id": "ankkAbbGvjkU",
        "colab": {
          "base_uri": "https://localhost:8080/",
          "height": 296
        },
        "outputId": "3b390ad2-547b-4fa5-8780-fbd6b8b9c435"
      },
      "source": [
        "# visualize different delay units' effect on model accuracy\n",
        "# to find delay as optimal\n",
        "RSS_mean = np.mean(RSS, axis=1)\n",
        "RSS_std = np.std(RSS, axis=1)\n",
        "plt.errorbar(dtest, RSS_mean, yerr=RSS_std)\n",
        "plt.grid()\n",
        "plt.xlabel('Units of delay')\n",
        "plt.ylabel('Testing RSQ')"
      ],
      "execution_count": 16,
      "outputs": [
        {
          "output_type": "execute_result",
          "data": {
            "text/plain": [
              "Text(0, 0.5, 'Testing RSQ')"
            ]
          },
          "metadata": {
            "tags": []
          },
          "execution_count": 16
        },
        {
          "output_type": "display_data",
          "data": {
            "image/png": "[encoded data removed]",
            "text/plain": [
              "<Figure size 432x288 with 1 Axes>"
            ]
          },
          "metadata": {
            "tags": [],
            "needs_background": "light"
          }
        }
      ]
    },
    {
      "cell_type": "code",
      "metadata": {
        "id": "x1DXD9JrvjkY",
        "colab": {
          "base_uri": "https://localhost:8080/"
        },
        "outputId": "aac90bb3-3a45-4e64-f131-efe5ede07bfe"
      },
      "source": [
        "d_nr = np.argmax(RSS_mean)\n",
        "print('The optimal delay should be ', dtest[d_nr])\n",
        "print('Or ', dtest[d_nr]*tsamp, ' second. ')"
      ],
      "execution_count": 17,
      "outputs": [
        {
          "output_type": "stream",
          "text": [
            "The optimal delay should be  8\n",
            "Or  0.4  second. \n"
          ],
          "name": "stdout"
        }
      ]
    }
  ]
}