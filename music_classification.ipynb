{
  "nbformat": 4,
  "nbformat_minor": 0,
  "metadata": {
    "anaconda-cloud": {},
    "kernelspec": {
      "display_name": "Python 3",
      "language": "python",
      "name": "python3"
    },
    "language_info": {
      "codemirror_mode": {
        "name": "ipython",
        "version": 3
      },
      "file_extension": ".py",
      "mimetype": "text/x-python",
      "name": "python",
      "nbconvert_exporter": "python",
      "pygments_lexer": "ipython3",
      "version": "3.8.3"
    },
    "colab": {
      "name": "music_classification.ipynb",
      "provenance": [],
      "collapsed_sections": []
    }
  },
  "cells": [
    {
      "cell_type": "code",
      "metadata": {
        "id": "yug7kY7916yI",
        "colab": {
          "resources": {
            "http://localhost:8080/nbextensions/google.colab/files.js": {
              "data": "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",
              "ok": true,
              "headers": [
                [
                  "content-type",
                  "application/javascript"
                ]
              ],
              "status": 200,
              "status_text": ""
            }
          },
          "base_uri": "https://localhost:8080/",
          "height": 174
        },
        "outputId": "483d524f-3d9b-4417-b4f3-c704786ce13d"
      },
      "source": [
        "\"\"\"\n",
        "Simon Wang\n",
        "\n",
        "This project implments a Neural Network model to perform classification of music\n",
        "played by different instruments. This project also attemps to find an optimal\n",
        "learn rate to maximize accuracy of the model.\n",
        "\n",
        "Data for this project was first gathered from University of Iowa Electronic\n",
        "Music Studios then processed and turned into mel-frequency cepstrum features by\n",
        "Eric Humphrey and Juan Bellow.\n",
        "\n",
        "http://theremin.music.uiowa.edu/\n",
        "https://github.com/marl/dl4mir-tutorial/blob/master/README.md\n",
        "\"\"\"\n",
        "\n",
        "import tensorflow as tf\n",
        "import numpy as np\n",
        "import matplotlib\n",
        "import matplotlib.pyplot as plt\n",
        "import librosa\n",
        "import librosa.display\n",
        "import librosa.feature\n",
        "import requests\n",
        "from google.colab import files\n",
        "from tensorflow.keras.models import Model, Sequential\n",
        "from tensorflow.keras.layers import Dense, Activation\n",
        "import tensorflow.keras.backend as K\n",
        "from tensorflow.keras import optimizers\n",
        "\n",
        "# load data into training and testing sets\n",
        "upload4 = files.upload()\n",
        "Xtr = np.load('uiowa_train_data.npy')\n",
        "ytr = np.load('uiowa_train_labels.npy')\n",
        "Xts = np.load('uiowa_test_data.npy')\n",
        "yts = np.load('uiowa_test_labels.npy')\n",
        "\n",
        "# scale data\n",
        "mean = np.mean(Xtr, axis=0)\n",
        "std = np.std(Xtr, axis=0)\n",
        "Xtr_scale = (Xtr-mean[None, :])/std[None, :]\n",
        "Xts_scale = (Xts-mean[None, :])/std[None, :]"
      ],
      "execution_count": 1,
      "outputs": [
        {
          "output_type": "display_data",
          "data": {
            "text/html": [
              "\n",
              "     <input type=\"file\" id=\"files-6138f757-242f-4114-9bec-6dd7cae8a863\" name=\"files[]\" multiple disabled\n",
              "        style=\"border:none\" />\n",
              "     <output id=\"result-6138f757-242f-4114-9bec-6dd7cae8a863\">\n",
              "      Upload widget is only available when the cell has been executed in the\n",
              "      current browser session. Please rerun this cell to enable.\n",
              "      </output>\n",
              "      <script src=\"/nbextensions/google.colab/files.js\"></script> "
            ],
            "text/plain": [
              "<IPython.core.display.HTML object>"
            ]
          },
          "metadata": {
            "tags": []
          }
        },
        {
          "output_type": "stream",
          "text": [
            "Saving uiowa_test_data.npy to uiowa_test_data.npy\n",
            "Saving uiowa_test_labels.npy to uiowa_test_labels.npy\n",
            "Saving uiowa_train_data.npy to uiowa_train_data.npy\n",
            "Saving uiowa_train_labels.npy to uiowa_train_labels.npy\n"
          ],
          "name": "stdout"
        }
      ]
    },
    {
      "cell_type": "code",
      "metadata": {
        "id": "5RINCdGR16yY",
        "colab": {
          "base_uri": "https://localhost:8080/"
        },
        "outputId": "ff604b98-115e-410f-ee97-fab8fda8895e"
      },
      "source": [
        "# interpret data\n",
        "ntrain = Xtr.shape[0]\n",
        "ntest = Xts.shape[0]\n",
        "nfeat = Xtr.shape[1]\n",
        "nclass = np.unique(yts).shape[0]\n",
        "print('There are  %d  training samples.' % ntrain)\n",
        "print('There are  %d  testing samples.' % ntest)\n",
        "print('There are  %d    features for each sample.' % nfeat)\n",
        "print('There are  %d     classes.' % nclass)"
      ],
      "execution_count": 2,
      "outputs": [
        {
          "output_type": "stream",
          "text": [
            "There are  66247  training samples.\n",
            "There are  14904  testing samples.\n",
            "There are  120    features for each sample.\n",
            "There are  10     classes.\n"
          ],
          "name": "stdout"
        }
      ]
    },
    {
      "cell_type": "code",
      "metadata": {
        "id": "sU-2R8y116yh",
        "colab": {
          "base_uri": "https://localhost:8080/",
          "height": 634
        },
        "outputId": "ea2441df-ed74-45f0-fdc5-9db9e267a22e"
      },
      "source": [
        "# construct the model\n",
        "K.clear_session()\n",
        "nh = 256\n",
        "nin = Xtr_scale.shape[1]\n",
        "nout = nclass\n",
        "model = Sequential()\n",
        "model.add(Dense(units=nh, input_shape=(nin,), activation='sigmoid', name='hidden'))\n",
        "model.add(Dense(units=nout, activation='softmax', name='output'))\n",
        "\n",
        "# compile model with Adam optimization learn rate 0.001\n",
        "opt = optimizers.Adam(lr=0.001)\n",
        "model.compile(optimizer=opt, loss='sparse_categorical_crossentropy',\n",
        "              metrics=['accuracy'])\n",
        "hist = model.fit(Xtr_scale, ytr, epochs=10, batch_size=100, validation_data=(Xts_scale,yts))\n",
        "\n",
        "# examine model accuracies\n",
        "tr_acc = hist.history['accuracy']\n",
        "val_acc = hist.history['val_accuracy']\n",
        "plt.plot(np.arange(10), tr_acc)\n",
        "plt.plot(np.arange(10), val_acc)\n",
        "plt.xlabel('Epochs')\n",
        "plt.ylabel('Accuarcy')\n",
        "plt.legend(['Training Accuracy', 'Validation Accuracy'])"
      ],
      "execution_count": 3,
      "outputs": [
        {
          "output_type": "stream",
          "text": [
            "Epoch 1/10\n",
            "663/663 [==============================] - 2s 3ms/step - loss: 0.3579 - accuracy: 0.9025 - val_loss: 0.1881 - val_accuracy: 0.9460\n",
            "Epoch 2/10\n",
            "663/663 [==============================] - 2s 3ms/step - loss: 0.1016 - accuracy: 0.9754 - val_loss: 0.1035 - val_accuracy: 0.9694\n",
            "Epoch 3/10\n",
            "663/663 [==============================] - 2s 3ms/step - loss: 0.0604 - accuracy: 0.9853 - val_loss: 0.0613 - val_accuracy: 0.9855\n",
            "Epoch 4/10\n",
            "663/663 [==============================] - 2s 3ms/step - loss: 0.0425 - accuracy: 0.9895 - val_loss: 0.0495 - val_accuracy: 0.9879\n",
            "Epoch 5/10\n",
            "663/663 [==============================] - 2s 3ms/step - loss: 0.0326 - accuracy: 0.9915 - val_loss: 0.0401 - val_accuracy: 0.9900\n",
            "Epoch 6/10\n",
            "663/663 [==============================] - 2s 3ms/step - loss: 0.0254 - accuracy: 0.9935 - val_loss: 0.0377 - val_accuracy: 0.9897\n",
            "Epoch 7/10\n",
            "663/663 [==============================] - 2s 3ms/step - loss: 0.0210 - accuracy: 0.9946 - val_loss: 0.0335 - val_accuracy: 0.9901\n",
            "Epoch 8/10\n",
            "663/663 [==============================] - 2s 3ms/step - loss: 0.0172 - accuracy: 0.9955 - val_loss: 0.0344 - val_accuracy: 0.9893\n",
            "Epoch 9/10\n",
            "663/663 [==============================] - 2s 3ms/step - loss: 0.0149 - accuracy: 0.9960 - val_loss: 0.0359 - val_accuracy: 0.9875\n",
            "Epoch 10/10\n",
            "663/663 [==============================] - 2s 3ms/step - loss: 0.0130 - accuracy: 0.9965 - val_loss: 0.0276 - val_accuracy: 0.9909\n"
          ],
          "name": "stdout"
        },
        {
          "output_type": "execute_result",
          "data": {
            "text/plain": [
              "<matplotlib.legend.Legend at 0x7f14f626b550>"
            ]
          },
          "metadata": {
            "tags": []
          },
          "execution_count": 3
        },
        {
          "output_type": "display_data",
          "data": {
            "image/png": "[encoded data removed]",
            "text/plain": [
              "<Figure size 432x288 with 1 Axes>"
            ]
          },
          "metadata": {
            "tags": [],
            "needs_background": "light"
          }
        }
      ]
    },
    {
      "cell_type": "code",
      "metadata": {
        "id": "M6W0tnkd16yv",
        "colab": {
          "base_uri": "https://localhost:8080/",
          "height": 1000
        },
        "outputId": "c7ce25bb-6350-4f0c-baef-346aebcf11ad"
      },
      "source": [
        "# cross validate to optimize Adam optimizer learning rate\n",
        "rates = [0.01,0.001,0.0001]\n",
        "batch_size = 100\n",
        "loss_hist = []\n",
        "for lr in rates:\n",
        "  K.clear_session()\n",
        "  model = Sequential()\n",
        "  model.add(Dense(units=nh, input_shape=(nin,), activation='sigmoid', name='hidden'))\n",
        "  model.add(Dense(units=nout, activation='softmax', name='output'))\n",
        "  opt = optimizers.Adam(lr=lr)\n",
        "  model.compile(optimizer=opt, loss='sparse_categorical_crossentropy',\n",
        "              metrics=['accuracy'])\n",
        "  hist = model.fit(Xtr_scale, ytr, epochs=20, batch_size=100, validation_data=(Xts_scale,yts))\n",
        "  loss_hist.append(hist.history['loss'])\n",
        "\n",
        "# examine loss resulting from the different learning rates\n",
        "plt.semilogy(np.arange(20), loss_hist[0])\n",
        "plt.semilogy(np.arange(20), loss_hist[1])\n",
        "plt.semilogy(np.arange(20), loss_hist[2])\n",
        "plt.xlabel('Epochs')\n",
        "plt.ylabel('Loss')\n",
        "plt.xticks(np.arange(20, step=2))\n",
        "plt.legend(rates)"
      ],
      "execution_count": 4,
      "outputs": [
        {
          "output_type": "stream",
          "text": [
            "Epoch 1/20\n",
            "663/663 [==============================] - 2s 3ms/step - loss: 0.1055 - accuracy: 0.9675 - val_loss: 0.0356 - val_accuracy: 0.9891\n",
            "Epoch 2/20\n",
            "663/663 [==============================] - 2s 3ms/step - loss: 0.0290 - accuracy: 0.9903 - val_loss: 0.1143 - val_accuracy: 0.9575\n",
            "Epoch 3/20\n",
            "663/663 [==============================] - 2s 3ms/step - loss: 0.0216 - accuracy: 0.9929 - val_loss: 0.0313 - val_accuracy: 0.9899\n",
            "Epoch 4/20\n",
            "663/663 [==============================] - 2s 3ms/step - loss: 0.0191 - accuracy: 0.9939 - val_loss: 0.0372 - val_accuracy: 0.9866\n",
            "Epoch 5/20\n",
            "663/663 [==============================] - 2s 3ms/step - loss: 0.0190 - accuracy: 0.9946 - val_loss: 0.0287 - val_accuracy: 0.9897\n",
            "Epoch 6/20\n",
            "663/663 [==============================] - 2s 3ms/step - loss: 0.0143 - accuracy: 0.9952 - val_loss: 0.0458 - val_accuracy: 0.9835\n",
            "Epoch 7/20\n",
            "663/663 [==============================] - 2s 3ms/step - loss: 0.0144 - accuracy: 0.9952 - val_loss: 0.0378 - val_accuracy: 0.9879\n",
            "Epoch 8/20\n",
            "663/663 [==============================] - 2s 3ms/step - loss: 0.0104 - accuracy: 0.9966 - val_loss: 0.0246 - val_accuracy: 0.9915\n",
            "Epoch 9/20\n",
            "663/663 [==============================] - 2s 3ms/step - loss: 0.0143 - accuracy: 0.9954 - val_loss: 0.0232 - val_accuracy: 0.9933\n",
            "Epoch 10/20\n",
            "663/663 [==============================] - 2s 3ms/step - loss: 0.0122 - accuracy: 0.9960 - val_loss: 0.0275 - val_accuracy: 0.9928\n",
            "Epoch 11/20\n",
            "663/663 [==============================] - 2s 3ms/step - loss: 0.0086 - accuracy: 0.9972 - val_loss: 0.0264 - val_accuracy: 0.9924\n",
            "Epoch 12/20\n",
            "663/663 [==============================] - 2s 3ms/step - loss: 0.0113 - accuracy: 0.9965 - val_loss: 0.0539 - val_accuracy: 0.9834\n",
            "Epoch 13/20\n",
            "663/663 [==============================] - 2s 3ms/step - loss: 0.0100 - accuracy: 0.9968 - val_loss: 0.0367 - val_accuracy: 0.9900\n",
            "Epoch 14/20\n",
            "663/663 [==============================] - 2s 2ms/step - loss: 0.0083 - accuracy: 0.9972 - val_loss: 0.0622 - val_accuracy: 0.9863\n",
            "Epoch 15/20\n",
            "663/663 [==============================] - 2s 3ms/step - loss: 0.0110 - accuracy: 0.9970 - val_loss: 0.0228 - val_accuracy: 0.9934\n",
            "Epoch 16/20\n",
            "663/663 [==============================] - 2s 3ms/step - loss: 0.0103 - accuracy: 0.9969 - val_loss: 0.0308 - val_accuracy: 0.9922\n",
            "Epoch 17/20\n",
            "663/663 [==============================] - 2s 3ms/step - loss: 0.0063 - accuracy: 0.9982 - val_loss: 0.0697 - val_accuracy: 0.9843\n",
            "Epoch 18/20\n",
            "663/663 [==============================] - 2s 3ms/step - loss: 0.0094 - accuracy: 0.9971 - val_loss: 0.0915 - val_accuracy: 0.9850\n",
            "Epoch 19/20\n",
            "663/663 [==============================] - 2s 2ms/step - loss: 0.0090 - accuracy: 0.9971 - val_loss: 0.1250 - val_accuracy: 0.9725\n",
            "Epoch 20/20\n",
            "663/663 [==============================] - 2s 2ms/step - loss: 0.0090 - accuracy: 0.9974 - val_loss: 0.0922 - val_accuracy: 0.9846\n",
            "Epoch 1/20\n",
            "663/663 [==============================] - 2s 3ms/step - loss: 0.3623 - accuracy: 0.9007 - val_loss: 0.1908 - val_accuracy: 0.9422\n",
            "Epoch 2/20\n",
            "663/663 [==============================] - 2s 2ms/step - loss: 0.1045 - accuracy: 0.9749 - val_loss: 0.0911 - val_accuracy: 0.9761\n",
            "Epoch 3/20\n",
            "663/663 [==============================] - 2s 3ms/step - loss: 0.0617 - accuracy: 0.9849 - val_loss: 0.0620 - val_accuracy: 0.9842\n",
            "Epoch 4/20\n",
            "663/663 [==============================] - 2s 2ms/step - loss: 0.0431 - accuracy: 0.9890 - val_loss: 0.0454 - val_accuracy: 0.9879\n",
            "Epoch 5/20\n",
            "663/663 [==============================] - 2s 3ms/step - loss: 0.0324 - accuracy: 0.9917 - val_loss: 0.0429 - val_accuracy: 0.9882\n",
            "Epoch 6/20\n",
            "663/663 [==============================] - 2s 3ms/step - loss: 0.0259 - accuracy: 0.9931 - val_loss: 0.0359 - val_accuracy: 0.9895\n",
            "Epoch 7/20\n",
            "663/663 [==============================] - 2s 3ms/step - loss: 0.0209 - accuracy: 0.9945 - val_loss: 0.0311 - val_accuracy: 0.9908\n",
            "Epoch 8/20\n",
            "663/663 [==============================] - 2s 3ms/step - loss: 0.0176 - accuracy: 0.9954 - val_loss: 0.0285 - val_accuracy: 0.9907\n",
            "Epoch 9/20\n",
            "663/663 [==============================] - 2s 3ms/step - loss: 0.0147 - accuracy: 0.9962 - val_loss: 0.0293 - val_accuracy: 0.9905\n",
            "Epoch 10/20\n",
            "663/663 [==============================] - 2s 3ms/step - loss: 0.0131 - accuracy: 0.9965 - val_loss: 0.0273 - val_accuracy: 0.9913\n",
            "Epoch 11/20\n",
            "663/663 [==============================] - 2s 3ms/step - loss: 0.0116 - accuracy: 0.9970 - val_loss: 0.0233 - val_accuracy: 0.9926\n",
            "Epoch 12/20\n",
            "663/663 [==============================] - 2s 3ms/step - loss: 0.0102 - accuracy: 0.9974 - val_loss: 0.0227 - val_accuracy: 0.9927\n",
            "Epoch 13/20\n",
            "663/663 [==============================] - 2s 3ms/step - loss: 0.0095 - accuracy: 0.9975 - val_loss: 0.0216 - val_accuracy: 0.9921\n",
            "Epoch 14/20\n",
            "663/663 [==============================] - 2s 3ms/step - loss: 0.0085 - accuracy: 0.9978 - val_loss: 0.0212 - val_accuracy: 0.9927\n",
            "Epoch 15/20\n",
            "663/663 [==============================] - 2s 3ms/step - loss: 0.0075 - accuracy: 0.9982 - val_loss: 0.0210 - val_accuracy: 0.9924\n",
            "Epoch 16/20\n",
            "663/663 [==============================] - 2s 3ms/step - loss: 0.0069 - accuracy: 0.9981 - val_loss: 0.0189 - val_accuracy: 0.9936\n",
            "Epoch 17/20\n",
            "663/663 [==============================] - 2s 3ms/step - loss: 0.0064 - accuracy: 0.9983 - val_loss: 0.0192 - val_accuracy: 0.9932\n",
            "Epoch 18/20\n",
            "663/663 [==============================] - 2s 3ms/step - loss: 0.0057 - accuracy: 0.9985 - val_loss: 0.0203 - val_accuracy: 0.9930\n",
            "Epoch 19/20\n",
            "663/663 [==============================] - 2s 3ms/step - loss: 0.0056 - accuracy: 0.9984 - val_loss: 0.0222 - val_accuracy: 0.9917\n",
            "Epoch 20/20\n",
            "663/663 [==============================] - 2s 3ms/step - loss: 0.0049 - accuracy: 0.9986 - val_loss: 0.0273 - val_accuracy: 0.9901\n",
            "Epoch 1/20\n",
            "663/663 [==============================] - 2s 3ms/step - loss: 1.0910 - accuracy: 0.6692 - val_loss: 0.8402 - val_accuracy: 0.6810\n",
            "Epoch 2/20\n",
            "663/663 [==============================] - 2s 3ms/step - loss: 0.5413 - accuracy: 0.8581 - val_loss: 0.5672 - val_accuracy: 0.8239\n",
            "Epoch 3/20\n",
            "663/663 [==============================] - 2s 3ms/step - loss: 0.3764 - accuracy: 0.9121 - val_loss: 0.4294 - val_accuracy: 0.8768\n",
            "Epoch 4/20\n",
            "663/663 [==============================] - 2s 3ms/step - loss: 0.2921 - accuracy: 0.9330 - val_loss: 0.3466 - val_accuracy: 0.9022\n",
            "Epoch 5/20\n",
            "663/663 [==============================] - 2s 3ms/step - loss: 0.2382 - accuracy: 0.9457 - val_loss: 0.2930 - val_accuracy: 0.9150\n",
            "Epoch 6/20\n",
            "663/663 [==============================] - 2s 3ms/step - loss: 0.1996 - accuracy: 0.9541 - val_loss: 0.2381 - val_accuracy: 0.9357\n",
            "Epoch 7/20\n",
            "663/663 [==============================] - 2s 3ms/step - loss: 0.1703 - accuracy: 0.9606 - val_loss: 0.2060 - val_accuracy: 0.9416\n",
            "Epoch 8/20\n",
            "663/663 [==============================] - 2s 3ms/step - loss: 0.1470 - accuracy: 0.9653 - val_loss: 0.1816 - val_accuracy: 0.9465\n",
            "Epoch 9/20\n",
            "663/663 [==============================] - 2s 3ms/step - loss: 0.1283 - accuracy: 0.9693 - val_loss: 0.1619 - val_accuracy: 0.9508\n",
            "Epoch 10/20\n",
            "663/663 [==============================] - 2s 3ms/step - loss: 0.1131 - accuracy: 0.9731 - val_loss: 0.1355 - val_accuracy: 0.9620\n",
            "Epoch 11/20\n",
            "663/663 [==============================] - 2s 3ms/step - loss: 0.1006 - accuracy: 0.9761 - val_loss: 0.1214 - val_accuracy: 0.9667\n",
            "Epoch 12/20\n",
            "663/663 [==============================] - 2s 3ms/step - loss: 0.0904 - accuracy: 0.9791 - val_loss: 0.1132 - val_accuracy: 0.9674\n",
            "Epoch 13/20\n",
            "663/663 [==============================] - 2s 3ms/step - loss: 0.0816 - accuracy: 0.9813 - val_loss: 0.0966 - val_accuracy: 0.9764\n",
            "Epoch 14/20\n",
            "663/663 [==============================] - 2s 3ms/step - loss: 0.0744 - accuracy: 0.9828 - val_loss: 0.0906 - val_accuracy: 0.9771\n",
            "Epoch 15/20\n",
            "663/663 [==============================] - 2s 3ms/step - loss: 0.0682 - accuracy: 0.9843 - val_loss: 0.0825 - val_accuracy: 0.9797\n",
            "Epoch 16/20\n",
            "663/663 [==============================] - 2s 3ms/step - loss: 0.0630 - accuracy: 0.9855 - val_loss: 0.0792 - val_accuracy: 0.9787\n",
            "Epoch 17/20\n",
            "663/663 [==============================] - 2s 3ms/step - loss: 0.0584 - accuracy: 0.9862 - val_loss: 0.0723 - val_accuracy: 0.9827\n",
            "Epoch 18/20\n",
            "663/663 [==============================] - 2s 3ms/step - loss: 0.0544 - accuracy: 0.9872 - val_loss: 0.0721 - val_accuracy: 0.9801\n",
            "Epoch 19/20\n",
            "663/663 [==============================] - 2s 3ms/step - loss: 0.0510 - accuracy: 0.9878 - val_loss: 0.0620 - val_accuracy: 0.9857\n",
            "Epoch 20/20\n",
            "663/663 [==============================] - 2s 3ms/step - loss: 0.0479 - accuracy: 0.9883 - val_loss: 0.0597 - val_accuracy: 0.9866\n"
          ],
          "name": "stdout"
        },
        {
          "output_type": "execute_result",
          "data": {
            "text/plain": [
              "<matplotlib.legend.Legend at 0x7f14f3a21400>"
            ]
          },
          "metadata": {
            "tags": []
          },
          "execution_count": 4
        },
        {
          "output_type": "display_data",
          "data": {
            "image/png": "[encoded data removed]",
            "text/plain": [
              "<Figure size 432x288 with 1 Axes>"
            ]
          },
          "metadata": {
            "tags": [],
            "needs_background": "light"
          }
        }
      ]
    }
  ]
}