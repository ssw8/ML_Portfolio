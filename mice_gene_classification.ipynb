{
  "nbformat": 4,
  "nbformat_minor": 0,
  "metadata": {
    "anaconda-cloud": {},
    "kernelspec": {
      "display_name": "Python 3",
      "language": "python",
      "name": "python3"
    },
    "language_info": {
      "codemirror_mode": {
        "name": "ipython",
        "version": 3
      },
      "file_extension": ".py",
      "mimetype": "text/x-python",
      "name": "python",
      "nbconvert_exporter": "python",
      "pygments_lexer": "ipython3",
      "version": "3.7.4"
    },
    "colab": {
      "name": "mice_gene_classification.ipynb",
      "provenance": [],
      "collapsed_sections": []
    }
  },
  "cells": [
    {
      "cell_type": "code",
      "metadata": {
        "id": "ASz0VXOlPZti",
        "colab": {
          "base_uri": "https://localhost:8080/"
        },
        "outputId": "05f911cc-daf3-4de8-be42-03b1f98c6838"
      },
      "source": [
        "\"\"\"\n",
        "Simon Wang\n",
        "\n",
        "This project aims to predict 8 possible condition of mices, given 77 genes \n",
        "expression measured. This project also explores the significances of specific\n",
        "genes in determining the conditions of mices.\n",
        "\n",
        "Data of this project is acquired from\n",
        "University of California, Irvine's Machine Learning Repository.\n",
        "https://archive.ics.uci.edu/ml/datasets/Mice+Protein+Expression\n",
        "\n",
        "\"\"\"\n",
        "\n",
        "import pandas as pd\n",
        "import numpy as np\n",
        "import matplotlib\n",
        "import matplotlib.pyplot as plt\n",
        "%matplotlib inline\n",
        "from sklearn import linear_model, preprocessing\n",
        "from sklearn.model_selection import train_test_split\n",
        "from sklearn.preprocessing import StandardScaler\n",
        "\n",
        "# load data\n",
        "df = pd.read_excel(io='https://archive.ics.uci.edu/ml/machine-learning-databases/00342/Data_Cortex_Nuclear.xls', index_col=0)\n",
        "\n",
        "# pre-process data and take care of missing data\n",
        "df1 = df.fillna(df.mean())\n",
        "\n",
        "# prepare testing and training data\n",
        "y1, y = np.unique(df1['Genotype'], return_inverse=True)\n",
        "cols = ['Genotype', 'Treatment', 'Behavior', 'class']\n",
        "xnames = df1[cols]\n",
        "x = df1.drop(cols, axis=1)\n",
        "Xtr, Xts, ytr, yts = train_test_split(x, y, test_size=0.3)\n",
        "xscal = StandardScaler()\n",
        "Xtr1 = xscal.fit_transform(Xtr)\n",
        "Xts1 = xscal.transform(Xts)\n",
        "\n",
        "# build and train regression model\n",
        "logreg = linear_model.LogisticRegression(C=1e5, solver='liblinear')\n",
        "logreg.fit(Xtr1, ytr)"
      ],
      "execution_count": 3,
      "outputs": [
        {
          "output_type": "execute_result",
          "data": {
            "text/plain": [
              "LogisticRegression(C=100000.0, class_weight=None, dual=False,\n",
              "                   fit_intercept=True, intercept_scaling=1, l1_ratio=None,\n",
              "                   max_iter=100, multi_class='auto', n_jobs=None, penalty='l2',\n",
              "                   random_state=None, solver='liblinear', tol=0.0001, verbose=0,\n",
              "                   warm_start=False)"
            ]
          },
          "metadata": {
            "tags": []
          },
          "execution_count": 3
        }
      ]
    },
    {
      "cell_type": "code",
      "metadata": {
        "id": "tsCzmPpNPZuM",
        "colab": {
          "base_uri": "https://localhost:8080/"
        },
        "outputId": "9b13d758-e9da-4f95-fec5-79fe3fe0dd35"
      },
      "source": [
        "# display accuracy of this model\n",
        "yhat = logreg.predict(Xts1)\n",
        "acc = np.mean(yhat == yts)\n",
        "print('The accuracy of this classifer is ', acc)"
      ],
      "execution_count": 4,
      "outputs": [
        {
          "output_type": "stream",
          "text": [
            "The accuracy of this classifer is  0.9567901234567902\n"
          ],
          "name": "stdout"
        }
      ]
    },
    {
      "cell_type": "code",
      "metadata": {
        "id": "nhNaUrkoPZuT",
        "colab": {
          "base_uri": "https://localhost:8080/",
          "height": 282
        },
        "outputId": "af8c840f-49e8-40e2-df6f-0be7ea676bfe"
      },
      "source": [
        "# visualize model coefficiants\n",
        "W = logreg.coef_\n",
        "a, b = W.shape\n",
        "plt.stem(np.arange(b), W.flatten(), use_line_collection=True)"
      ],
      "execution_count": 5,
      "outputs": [
        {
          "output_type": "execute_result",
          "data": {
            "text/plain": [
              "<StemContainer object of 3 artists>"
            ]
          },
          "metadata": {
            "tags": []
          },
          "execution_count": 5
        },
        {
          "output_type": "display_data",
          "data": {
            "image/png": "[encoded data removed]",
            "text/plain": [
              "<Figure size 432x288 with 1 Axes>"
            ]
          },
          "metadata": {
            "tags": [],
            "needs_background": "light"
          }
        }
      ]
    },
    {
      "cell_type": "code",
      "metadata": {
        "id": "52qdX6WgPZuX",
        "colab": {
          "base_uri": "https://localhost:8080/"
        },
        "outputId": "72df1611-c18c-4842-d0e4-442a8b4dbd15"
      },
      "source": [
        "# find out names of genes most likely to be involved in determining\n",
        "# mice's conditions\n",
        "i = np.argsort(np.abs(W)*(-1))\n",
        "print('Names of components for two largest magnitude of W[i] are')\n",
        "print(df1.columns[i[0][0]])\n",
        "print(df1.columns[i[0][1]])"
      ],
      "execution_count": 6,
      "outputs": [
        {
          "output_type": "stream",
          "text": [
            "Names of components for two largest magnitude of W[i] are\n",
            "ITSN1_N\n",
            "BRAF_N\n"
          ],
          "name": "stdout"
        }
      ]
    }
  ]
}